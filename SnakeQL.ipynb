{
 "cells": [
  {
   "cell_type": "markdown",
   "id": "ade1c1b3",
   "metadata": {},
   "source": [
    "# SnakeQL\n",
    "# An SQL like Database built entirely within Python"
   ]
  },
  {
   "cell_type": "code",
   "execution_count": 2,
   "id": "ef67248d",
   "metadata": {},
   "outputs": [],
   "source": [
    "#libraries imported\n",
    "import json\n",
    "import os\n",
    "import threading\n",
    "import datetime\n",
    "from decimal import Decimal\n",
    "import ply.lex as lex\n",
    "import ply.yacc as yacc"
   ]
  },
  {
   "cell_type": "code",
   "execution_count": 3,
   "id": "7639f5c6",
   "metadata": {},
   "outputs": [],
   "source": [
    "class DatabaseError(Exception):\n",
    "    pass"
   ]
  },
  {
   "cell_type": "code",
   "execution_count": 4,
   "id": "4bb66937",
   "metadata": {},
   "outputs": [],
   "source": [
    "class TableExistsError(DatabaseError):\n",
    "    pass"
   ]
  },
  {
   "cell_type": "code",
   "execution_count": 5,
   "id": "c162c563",
   "metadata": {},
   "outputs": [],
   "source": [
    "class ColumnNotFoundError(DatabaseError):\n",
    "    pass"
   ]
  },
  {
   "cell_type": "code",
   "execution_count": 6,
   "id": "bc5ccc59",
   "metadata": {},
   "outputs": [],
   "source": [
    "class DataTypeError(DatabaseError):\n",
    "    pass"
   ]
  },
  {
   "cell_type": "code",
   "execution_count": 7,
   "id": "ca752849",
   "metadata": {},
   "outputs": [],
   "source": [
    "class TransactionError(DatabaseError):\n",
    "    pass"
   ]
  },
  {
   "cell_type": "code",
   "execution_count": 8,
   "id": "7141e74f",
   "metadata": {},
   "outputs": [],
   "source": [
    "class Transaction:\n",
    "    def __init__(self, isolation_level='READ COMMITTED'):\n",
    "        self.operations = []\n",
    "        self.active = False\n",
    "        self.isolation_level = isolation_level"
   ]
  }
 ],
 "metadata": {
  "kernelspec": {
   "display_name": "Python 3",
   "language": "python",
   "name": "python3"
  },
  "language_info": {
   "codemirror_mode": {
    "name": "ipython",
    "version": 3
   },
   "file_extension": ".py",
   "mimetype": "text/x-python",
   "name": "python",
   "nbconvert_exporter": "python",
   "pygments_lexer": "ipython3",
   "version": "3.12.3"
  }
 },
 "nbformat": 4,
 "nbformat_minor": 5
}
