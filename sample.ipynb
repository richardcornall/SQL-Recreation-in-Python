{
 "cells": [
  {
   "cell_type": "markdown",
   "id": "ade1c1b3",
   "metadata": {},
   "source": [
    "# SnakeQL\n",
    "# An SQL like Database built entirely within Python"
   ]
  },
  {
   "cell_type": "code",
   "execution_count": 3,
   "id": "ef67248d",
   "metadata": {},
   "outputs": [],
   "source": [
    "#libraries imported\n",
    "import json\n",
    "import os\n",
    "import threading\n",
    "import datetime\n",
    "from decimal import Decimal\n",
    "import ply.lex as lex\n",
    "import ply.yacc as yacc"
   ]
  },
  {
   "cell_type": "code",
   "execution_count": 16,
   "id": "adefd815",
   "metadata": {},
   "outputs": [],
   "source": [
    "class Database:\n",
    "    def __init__(self, db_path='db'):\n",
    "        self.db_path = db_path\n",
    "        if not os.path.exists(db_path):\n",
    "            os.makedirs(db_path)\n",
    "        self.tables = {}\n",
    "        \n",
    "     def create_table(self, table_name, columns):\n",
    "        # columns is a list of (column_name, type) tuples\n",
    "        table = {\n",
    "            'columns': columns,\n",
    "            'rows': []\n",
    "        }\n",
    "        self.tables[table_name] = table\n",
    "        # Save to file\n",
    "        self._save_table(table_name)\n",
    "        print(f\"Table '{table_name}' created with columns {columns}\")\n",
    "    def insert_into(self, table_name, values):\n",
    "        # values is a list of values matching the columns\n",
    "        if table_name not in self.tables:\n",
    "            self._load_table(table_name)\n",
    "        table = self.tables[table_name]\n",
    "        if len(values) != len(table['columns']):\n",
    "            print(\"Error: number of values does not match number of columns\")\n",
    "            return\n",
    "        row = {}\n",
    "        for (col_name, col_type), value in zip(table['columns'], values):\n",
    "            # TODO: type checking and conversion\n",
    "            row[col_name] = value\n",
    "        table['rows'].append(row)\n",
    "        self._save_table(table_name)\n",
    "        print(f\"Inserted into '{table_name}': {row}\")"
   ]
  },
  {
   "cell_type": "code",
   "execution_count": null,
   "id": "440bb01c",
   "metadata": {},
   "outputs": [],
   "source": []
  },
  {
   "cell_type": "code",
   "execution_count": 14,
   "id": "775e96ce",
   "metadata": {},
   "outputs": [],
   "source": [
    "#Tokens and grammar rules for Complex SnakeQL Parsing\n",
    "tokens = (\n",
    "    'SELECT', 'FROM', 'WHERE', 'AND', 'OR', 'NOT', 'INSERT', 'INTO', 'VALUES',\n",
    "    'UPDATE', 'SET', 'DELETE', 'CREATE', 'TABLE', 'DROP', 'ALTER', 'ADD', 'COLUMN',\n",
    "    'TYPE', 'INDEXED', 'BY', 'DESCRIBE', 'TRUNCATE', 'ORDER', 'BY', 'LIMIT',\n",
    "    'JOIN', 'ON', 'AS', 'INT', 'FLOAT', 'STRING', 'IDENTIFIER', 'EQUALS',\n",
    "    'GREATER', 'LESS', 'GREATEREQ', 'LESSEQ', 'NOTEQ', 'COMMA', 'LPAREN', 'RPAREN',\n",
    "    'SEMICOLON', 'DOT', 'NUMBER', 'QUOTED_STRING'\n",
    ")"
   ]
  },
  {
   "cell_type": "code",
   "execution_count": 4,
   "id": "2166e640",
   "metadata": {},
   "outputs": [],
   "source": [
    "class DatabaseError(Exception):\n",
    "    pass"
   ]
  },
  {
   "cell_type": "code",
   "execution_count": null,
   "id": "201566f9",
   "metadata": {},
   "outputs": [],
   "source": [
    "class TableExistsError(DatabaseError):\n",
    "    pass"
   ]
  },
  {
   "cell_type": "code",
   "execution_count": 5,
   "id": "ea03683d",
   "metadata": {},
   "outputs": [],
   "source": [
    "class TableNotFoundError(DatabaseError):\n",
    "    pass"
   ]
  },
  {
   "cell_type": "code",
   "execution_count": null,
   "id": "d69765ff",
   "metadata": {},
   "outputs": [],
   "source": [
    "class ColumnNotFoundError(DatabaseError):\n",
    "    pass"
   ]
  },
  {
   "cell_type": "code",
   "execution_count": null,
   "id": "7ece92e6",
   "metadata": {},
   "outputs": [],
   "source": [
    "class DataTypeError(DatabaseError):\n",
    "    pass"
   ]
  },
  {
   "cell_type": "code",
   "execution_count": null,
   "id": "74130b9b",
   "metadata": {},
   "outputs": [],
   "source": [
    "class TransactionError(DatabaseError):\n",
    "    pass"
   ]
  },
  {
   "cell_type": "code",
   "execution_count": 6,
   "id": "73377126",
   "metadata": {},
   "outputs": [],
   "source": [
    "# Data type enforcement and parsing\n",
    "def parse_value(value_str, data_type):\n",
    "    value_str = value_str.strip()\n",
    "    if data_type == 'int':\n",
    "        return int(value_str)\n",
    "    elif data_type == 'float':\n",
    "        return float(value_str)\n",
    "    elif data_type == 'str':\n",
    "        if value_str.startswith('\"') and value_str.endswith('\"'):\n",
    "            return value_str[1:-1]\n",
    "        else:\n",
    "            raise DataTypeError(f\"Invalid string value: {value_str}\")\n",
    "    elif data_type == 'bool':\n",
    "        if value_str.lower() in ('true', 'false'):\n",
    "            return value_str.lower() == 'true'\n",
    "        else:\n",
    "            raise DataTypeError(f\"Invalid boolean value: {value_str}\")\n",
    "    elif data_type == 'date':\n",
    "        try:\n",
    "            return datetime.datetime.strptime(value_str.strip('\"'), '%Y-%m-%d').date()\n",
    "        except ValueError:\n",
    "            raise DataTypeError(f\"Invalid date format: {value_str}\")\n",
    "    elif data_type == 'datetime':\n",
    "        try:\n",
    "            return datetime.datetime.strptime(value_str.strip('\"'), '%Y-%m-%d %H:%M:%S')\n",
    "        except ValueError:\n",
    "            raise DataTypeError(f\"Invalid datetime format: {value_str}\")\n",
    "    else:\n",
    "        raise DataTypeError(f\"Unsupported data type: {data_type}\")"
   ]
  },
  {
   "cell_type": "code",
   "execution_count": 8,
   "id": "7b4f98cc",
   "metadata": {},
   "outputs": [],
   "source": [
    "#Defining the class for database\n",
    "class Database:\n",
    "    def __init__(self, db_path='db'):\n",
    "        self.db_path = db_path\n",
    "        if not os.path.exists(db_path):\n",
    "            os.makedirs(db_path)\n",
    "        self.tables = {}\n",
    "        self.locks = {}\n",
    "        self.transaction = Transaction()\n",
    "        self.global_lock = threading.Lock()\n"
   ]
  },
  {
   "cell_type": "code",
   "execution_count": 10,
   "id": "0bc31461",
   "metadata": {},
   "outputs": [],
   "source": [
    "#data type enforcement when using insert_into method\n",
    "def insert_into(self, table_name, values):\n",
    "        with self._get_lock(table_name):\n",
    "            table = self._get_table(table_name)\n",
    "            if len(values) != len(table['columns']):\n",
    "                raise DatabaseError(\"Number of values does not match number of columns\")\n",
    "            row = {}\n",
    "            for (col_name, col_type), value_str in zip(table['columns'], values):\n",
    "                value = parse_value(value_str, col_type)\n",
    "                row[col_name] = value\n",
    "            # Update indexes\n",
    "            self._update_indexes(table, row, add=True)\n",
    "            # Transactions\n",
    "            if self.transaction.active:\n",
    "                def op():\n",
    "                    table['rows'].append(row)\n",
    "                    self._save_table(table_name)\n",
    "                self.transaction.operations.append(op)\n",
    "            else:\n",
    "                table['rows'].append(row)\n",
    "                self._save_table(table_name)\n",
    "            print(f\"Inserted into '{table_name}': {row}\")"
   ]
  },
  {
   "cell_type": "code",
   "execution_count": null,
   "id": "e90d4e72",
   "metadata": {},
   "outputs": [],
   "source": [
    "#savetable function\n",
    " def _save_table(self, table_name):\n",
    "        table = self.tables[table_name]\n",
    "        # Save both table data and indexes\n",
    "        table_data = {\n",
    "            'columns': table['columns'],\n",
    "            'rows': table['rows'],\n",
    "            'indexes': {col: dict(index) for col, index in table.get('indexes', {}).items()}\n",
    "        }\n",
    "        with open(os.path.join(self.db_path, f\"{table_name}.json\"), 'w') as f:\n",
    "            json.dump(table_data, f, default=str)"
   ]
  },
  {
   "cell_type": "code",
   "execution_count": 11,
   "id": "4a4a613b",
   "metadata": {},
   "outputs": [],
   "source": [
    "#Load table function\n",
    "def _load_table(self, table_name):\n",
    "        try:\n",
    "            with open(os.path.join(self.db_path, f\"{table_name}.json\"), 'r') as f:\n",
    "                table_data = json.load(f)\n",
    "                # Convert strings back to appropriate data types\n",
    "                table_data['rows'] = [\n",
    "                    {col: self._parse_loaded_value(val, col_type)\n",
    "                     for (col, col_type), val in zip(table_data['columns'], row.values())}\n",
    "                    for row in table_data['rows']\n",
    "                ]\n",
    "                # Reconstruct indexes\n",
    "                table_data['indexes'] = {\n",
    "                    col: {self._parse_loaded_value(key, self._get_column_type(table_data, col)): val\n",
    "                          for key, val in index.items()}\n",
    "                    for col, index in table_data.get('indexes', {}).items()\n",
    "                }\n",
    "                self.tables[table_name] = table_data\n",
    "        except FileNotFoundError:\n",
    "            raise TableNotFoundError(f\"Table '{table_name}' does not exist\")"
   ]
  },
  {
   "cell_type": "code",
   "execution_count": 13,
   "id": "fe8e6f3a",
   "metadata": {},
   "outputs": [],
   "source": [
    "#Function to parse table loaded values\n",
    "def _parse_loaded_value(self, value_str, data_type):\n",
    "        if data_type == 'int':\n",
    "            return int(value_str)\n",
    "        elif data_type == 'float':\n",
    "            return float(value_str)\n",
    "        elif data_type == 'str':\n",
    "            return value_str\n",
    "        elif data_type == 'bool':\n",
    "            return value_str == 'True'\n",
    "        elif data_type == 'date':\n",
    "            return datetime.datetime.strptime(value_str, '%Y-%m-%d').date()\n",
    "        elif data_type == 'datetime':\n",
    "            return datetime.datetime.strptime(value_str, '%Y-%m-%d %H:%M:%S')\n",
    "        else:\n",
    "            return value_str\n"
   ]
  },
  {
   "cell_type": "code",
   "execution_count": 15,
   "id": "b6fcc00f",
   "metadata": {},
   "outputs": [
    {
     "ename": "NameError",
     "evalue": "name 'Transaction' is not defined",
     "output_type": "error",
     "traceback": [
      "\u001b[1;31m---------------------------------------------------------------------------\u001b[0m",
      "\u001b[1;31mNameError\u001b[0m                                 Traceback (most recent call last)",
      "Cell \u001b[1;32mIn[15], line 21\u001b[0m\n\u001b[0;32m     18\u001b[0m             \u001b[38;5;28mprint\u001b[39m(\u001b[38;5;124mf\u001b[39m\u001b[38;5;124m\"\u001b[39m\u001b[38;5;124mUnexpected error: \u001b[39m\u001b[38;5;132;01m{\u001b[39;00me\u001b[38;5;132;01m}\u001b[39;00m\u001b[38;5;124m\"\u001b[39m)\n\u001b[0;32m     20\u001b[0m \u001b[38;5;28;01mif\u001b[39;00m \u001b[38;5;18m__name__\u001b[39m \u001b[38;5;241m==\u001b[39m \u001b[38;5;124m'\u001b[39m\u001b[38;5;124m__main__\u001b[39m\u001b[38;5;124m'\u001b[39m:\n\u001b[1;32m---> 21\u001b[0m     \u001b[43mmain\u001b[49m\u001b[43m(\u001b[49m\u001b[43m)\u001b[49m\n",
      "Cell \u001b[1;32mIn[15], line 3\u001b[0m, in \u001b[0;36mmain\u001b[1;34m()\u001b[0m\n\u001b[0;32m      2\u001b[0m \u001b[38;5;28;01mdef\u001b[39;00m \u001b[38;5;21mmain\u001b[39m():\n\u001b[1;32m----> 3\u001b[0m     db \u001b[38;5;241m=\u001b[39m \u001b[43mDatabase\u001b[49m\u001b[43m(\u001b[49m\u001b[43m)\u001b[49m\n\u001b[0;32m      4\u001b[0m     \u001b[38;5;66;03m# Initialize lexer and parser\u001b[39;00m\n\u001b[0;32m      5\u001b[0m     lexer \u001b[38;5;241m=\u001b[39m lex\u001b[38;5;241m.\u001b[39mlex()\n",
      "Cell \u001b[1;32mIn[8], line 9\u001b[0m, in \u001b[0;36mDatabase.__init__\u001b[1;34m(self, db_path)\u001b[0m\n\u001b[0;32m      7\u001b[0m \u001b[38;5;28mself\u001b[39m\u001b[38;5;241m.\u001b[39mtables \u001b[38;5;241m=\u001b[39m {}\n\u001b[0;32m      8\u001b[0m \u001b[38;5;28mself\u001b[39m\u001b[38;5;241m.\u001b[39mlocks \u001b[38;5;241m=\u001b[39m {}\n\u001b[1;32m----> 9\u001b[0m \u001b[38;5;28mself\u001b[39m\u001b[38;5;241m.\u001b[39mtransaction \u001b[38;5;241m=\u001b[39m \u001b[43mTransaction\u001b[49m()\n\u001b[0;32m     10\u001b[0m \u001b[38;5;28mself\u001b[39m\u001b[38;5;241m.\u001b[39mglobal_lock \u001b[38;5;241m=\u001b[39m threading\u001b[38;5;241m.\u001b[39mLock()\n",
      "\u001b[1;31mNameError\u001b[0m: name 'Transaction' is not defined"
     ]
    }
   ],
   "source": [
    "#Run database main function\n",
    "def main():\n",
    "    db = Database()\n",
    "    # Initialize lexer and parser\n",
    "    lexer = lex.lex()\n",
    "    parser = yacc.yacc()\n",
    "    while True:\n",
    "        try:\n",
    "            command = input(\"db> \")\n",
    "            if command.lower() in ('exit', 'quit'):\n",
    "                break\n",
    "            result = parser.parse(command)\n",
    "            # Handle the parsed result\n",
    "            # ...\n",
    "        except DatabaseError as e:\n",
    "            print(f\"Error: {e}\")\n",
    "        except Exception as e:\n",
    "            print(f\"Unexpected error: {e}\")\n",
    "\n",
    "if __name__ == '__main__':\n",
    "    main()"
   ]
  }
 ],
 "metadata": {
  "kernelspec": {
   "display_name": "Python 3",
   "language": "python",
   "name": "python3"
  },
  "language_info": {
   "codemirror_mode": {
    "name": "ipython",
    "version": 3
   },
   "file_extension": ".py",
   "mimetype": "text/x-python",
   "name": "python",
   "nbconvert_exporter": "python",
   "pygments_lexer": "ipython3",
   "version": "3.12.3"
  }
 },
 "nbformat": 4,
 "nbformat_minor": 5
}
