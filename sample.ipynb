{
 "cells": [
  {
   "cell_type": "code",
   "execution_count": 3,
   "id": "ef67248d",
   "metadata": {},
   "outputs": [],
   "source": [
    "#libraries imported\n",
    "import json\n",
    "import os\n",
    "import threading\n",
    "import datetime\n",
    "from decimal import Decimal\n",
    "import ply.lex as lex\n",
    "import ply.yacc as yacc"
   ]
  },
  {
   "cell_type": "markdown",
   "id": "ade1c1b3",
   "metadata": {},
   "source": [
    "# Define custom exceptions for specific error types"
   ]
  },
  {
   "cell_type": "code",
   "execution_count": 4,
   "id": "2166e640",
   "metadata": {},
   "outputs": [],
   "source": [
    "class DatabaseError(Exception):\n",
    "    pass"
   ]
  },
  {
   "cell_type": "code",
   "execution_count": null,
   "id": "201566f9",
   "metadata": {},
   "outputs": [],
   "source": [
    "class TableExistsError(DatabaseError):\n",
    "    pass"
   ]
  }
 ],
 "metadata": {
  "kernelspec": {
   "display_name": "Python 3",
   "language": "python",
   "name": "python3"
  },
  "language_info": {
   "codemirror_mode": {
    "name": "ipython",
    "version": 3
   },
   "file_extension": ".py",
   "mimetype": "text/x-python",
   "name": "python",
   "nbconvert_exporter": "python",
   "pygments_lexer": "ipython3",
   "version": "3.12.3"
  }
 },
 "nbformat": 4,
 "nbformat_minor": 5
}
