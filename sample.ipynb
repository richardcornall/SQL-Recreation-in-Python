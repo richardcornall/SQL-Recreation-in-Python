{
 "cells": [
  {
   "cell_type": "markdown",
   "id": "ade1c1b3",
   "metadata": {},
   "source": [
    "# SnakeQL\n",
    "# An SQL like Database built entirely within Python"
   ]
  },
  {
   "cell_type": "code",
   "execution_count": 3,
   "id": "ef67248d",
   "metadata": {},
   "outputs": [],
   "source": [
    "#libraries imported\n",
    "import json\n",
    "import os\n",
    "import threading\n",
    "import datetime\n",
    "from decimal import Decimal\n",
    "import ply.lex as lex\n",
    "import ply.yacc as yacc"
   ]
  },
  {
   "cell_type": "code",
   "execution_count": 4,
   "id": "2166e640",
   "metadata": {},
   "outputs": [],
   "source": [
    "class DatabaseError(Exception):\n",
    "    pass"
   ]
  },
  {
   "cell_type": "code",
   "execution_count": null,
   "id": "201566f9",
   "metadata": {},
   "outputs": [],
   "source": [
    "class TableExistsError(DatabaseError):\n",
    "    pass"
   ]
  },
  {
   "cell_type": "code",
   "execution_count": 5,
   "id": "ea03683d",
   "metadata": {},
   "outputs": [],
   "source": [
    "class TableNotFoundError(DatabaseError):\n",
    "    pass"
   ]
  },
  {
   "cell_type": "code",
   "execution_count": null,
   "id": "d69765ff",
   "metadata": {},
   "outputs": [],
   "source": [
    "class ColumnNotFoundError(DatabaseError):\n",
    "    pass"
   ]
  },
  {
   "cell_type": "code",
   "execution_count": null,
   "id": "7ece92e6",
   "metadata": {},
   "outputs": [],
   "source": [
    "class DataTypeError(DatabaseError):\n",
    "    pass"
   ]
  },
  {
   "cell_type": "code",
   "execution_count": null,
   "id": "74130b9b",
   "metadata": {},
   "outputs": [],
   "source": [
    "class TransactionError(DatabaseError):\n",
    "    pass"
   ]
  },
  {
   "cell_type": "code",
   "execution_count": 6,
   "id": "73377126",
   "metadata": {},
   "outputs": [],
   "source": [
    "# Data type enforcement and parsing\n",
    "def parse_value(value_str, data_type):\n",
    "    value_str = value_str.strip()\n",
    "    if data_type == 'int':\n",
    "        return int(value_str)\n",
    "    elif data_type == 'float':\n",
    "        return float(value_str)\n",
    "    elif data_type == 'str':\n",
    "        if value_str.startswith('\"') and value_str.endswith('\"'):\n",
    "            return value_str[1:-1]\n",
    "        else:\n",
    "            raise DataTypeError(f\"Invalid string value: {value_str}\")\n",
    "    elif data_type == 'bool':\n",
    "        if value_str.lower() in ('true', 'false'):\n",
    "            return value_str.lower() == 'true'\n",
    "        else:\n",
    "            raise DataTypeError(f\"Invalid boolean value: {value_str}\")\n",
    "    elif data_type == 'date':\n",
    "        try:\n",
    "            return datetime.datetime.strptime(value_str.strip('\"'), '%Y-%m-%d').date()\n",
    "        except ValueError:\n",
    "            raise DataTypeError(f\"Invalid date format: {value_str}\")\n",
    "    elif data_type == 'datetime':\n",
    "        try:\n",
    "            return datetime.datetime.strptime(value_str.strip('\"'), '%Y-%m-%d %H:%M:%S')\n",
    "        except ValueError:\n",
    "            raise DataTypeError(f\"Invalid datetime format: {value_str}\")\n",
    "    else:\n",
    "        raise DataTypeError(f\"Unsupported data type: {data_type}\")"
   ]
  },
  {
   "cell_type": "code",
   "execution_count": 8,
   "id": "7b4f98cc",
   "metadata": {},
   "outputs": [],
   "source": [
    "#Defining the class for database\n",
    "class Database:\n",
    "    def __init__(self, db_path='db'):\n",
    "        self.db_path = db_path\n",
    "        if not os.path.exists(db_path):\n",
    "            os.makedirs(db_path)\n",
    "        self.tables = {}\n",
    "        self.locks = {}\n",
    "        self.transaction = Transaction()\n",
    "        self.global_lock = threading.Lock()\n"
   ]
  },
  {
   "cell_type": "code",
   "execution_count": 10,
   "id": "0bc31461",
   "metadata": {},
   "outputs": [],
   "source": [
    "#data type enforcement when using insert_into method\n",
    "def insert_into(self, table_name, values):\n",
    "        with self._get_lock(table_name):\n",
    "            table = self._get_table(table_name)\n",
    "            if len(values) != len(table['columns']):\n",
    "                raise DatabaseError(\"Number of values does not match number of columns\")\n",
    "            row = {}\n",
    "            for (col_name, col_type), value_str in zip(table['columns'], values):\n",
    "                value = parse_value(value_str, col_type)\n",
    "                row[col_name] = value\n",
    "            # Update indexes\n",
    "            self._update_indexes(table, row, add=True)\n",
    "            # Transactions\n",
    "            if self.transaction.active:\n",
    "                def op():\n",
    "                    table['rows'].append(row)\n",
    "                    self._save_table(table_name)\n",
    "                self.transaction.operations.append(op)\n",
    "            else:\n",
    "                table['rows'].append(row)\n",
    "                self._save_table(table_name)\n",
    "            print(f\"Inserted into '{table_name}': {row}\")"
   ]
  },
  {
   "cell_type": "code",
   "execution_count": null,
   "id": "e90d4e72",
   "metadata": {},
   "outputs": [],
   "source": []
  }
 ],
 "metadata": {
  "kernelspec": {
   "display_name": "Python 3",
   "language": "python",
   "name": "python3"
  },
  "language_info": {
   "codemirror_mode": {
    "name": "ipython",
    "version": 3
   },
   "file_extension": ".py",
   "mimetype": "text/x-python",
   "name": "python",
   "nbconvert_exporter": "python",
   "pygments_lexer": "ipython3",
   "version": "3.12.3"
  }
 },
 "nbformat": 4,
 "nbformat_minor": 5
}
